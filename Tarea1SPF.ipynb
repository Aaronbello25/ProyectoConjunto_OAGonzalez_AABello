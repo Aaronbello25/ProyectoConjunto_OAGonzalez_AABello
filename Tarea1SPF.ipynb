{
 "cells": [
  {
   "cell_type": "markdown",
   "metadata": {},
   "source": [
    "En este nuevo notebook el ESTUDIANTE 1, debe realizar una presentaci ́on describiendo\n",
    "sus  espectativas  del  curso  haciendo  uso  de  la  sintaxis  Markdown.  Tal  presentanci ́on\n",
    "debe de tener: los diferentes tipos de Encabezados, c ́odigo L\n",
    "A\n",
    "T\n",
    "E\n",
    "X(Algunas ecuaciones),\n",
    "im ́agenes y alguna tabla con informaci ́on variada.\n"
   ]
  },
  {
   "cell_type": "markdown",
   "metadata": {},
   "source": [
    "### Simulación de procesos financieros\n",
    "\n",
    "- Oscar Adolfo González Zamora\n",
    "- Aaron Alejandro Bello Aldrete\n",
    "\n"
   ]
  },
  {
   "cell_type": "markdown",
   "metadata": {},
   "source": [
    "#### Espectativa del curso"
   ]
  },
  {
   "cell_type": "markdown",
   "metadata": {},
   "source": [
    "Esperamos que en el curso podamos aprender a usar diferentes herramientas para pronosticar y aproximar el precio de diferentes valores"
   ]
  },
  {
   "cell_type": "markdown",
   "metadata": {},
   "source": [
    "Definamos algunas funciones\n",
    "\n",
    "$ f(x) = \\cos(x) - x$\n",
    "\n",
    "$\\int_{0}^{\\infty} x^{y} e^{-x} dx $"
   ]
  }
 ],
 "metadata": {
  "kernelspec": {
   "display_name": "Python [Root]",
   "language": "python",
   "name": "Python [Root]"
  },
  "language_info": {
   "codemirror_mode": {
    "name": "ipython",
    "version": 3
   },
   "file_extension": ".py",
   "mimetype": "text/x-python",
   "name": "python",
   "nbconvert_exporter": "python",
   "pygments_lexer": "ipython3",
   "version": "3.5.2"
  }
 },
 "nbformat": 4,
 "nbformat_minor": 0
}
